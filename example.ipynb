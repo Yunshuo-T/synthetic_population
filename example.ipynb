{
 "cells": [
  {
   "cell_type": "code",
   "execution_count": 9,
   "id": "c38140e5",
   "metadata": {},
   "outputs": [],
   "source": [
    "import numpy as np"
   ]
  },
  {
   "cell_type": "markdown",
   "id": "dd44fd0b",
   "metadata": {},
   "source": [
    "# IPF"
   ]
  },
  {
   "cell_type": "code",
   "execution_count": 16,
   "id": "87be9e39",
   "metadata": {},
   "outputs": [],
   "source": [
    "from ipf import ipf "
   ]
  },
  {
   "cell_type": "markdown",
   "id": "41f259e5",
   "metadata": {},
   "source": [
    "## Variable dimension"
   ]
  },
  {
   "cell_type": "code",
   "execution_count": 11,
   "id": "35462a49",
   "metadata": {},
   "outputs": [],
   "source": [
    "a = ['1','2','3','4'] # Age class\n",
    "g = ['1','2'] # gender class\n",
    "i = ['1','2','3'] # income class\n",
    "h = ['1','2','3'] # house size class\n",
    "c = ['1','2','3','4'] # car number class\n"
   ]
  },
  {
   "cell_type": "markdown",
   "id": "16a4d1c1",
   "metadata": {},
   "source": [
    "## Constraints (marginal)"
   ]
  },
  {
   "cell_type": "code",
   "execution_count": 12,
   "id": "d4eae18d",
   "metadata": {},
   "outputs": [],
   "source": [
    "# Convert lists of strings to arrays of integers:\n",
    "row_targets_age    = np.array([104, 52, 770, 74])\n",
    "row_targets_gender = np.array([301, 699])\n",
    "row_targets_income = np.array([73, 597, 330])\n",
    "row_targets_house  = np.array([632, 282, 86])\n",
    "row_targets_car    = np.array([367, 143, 369, 121])\n",
    "\n",
    "# Suppose 'seed' is a 5D array of shape (4, 2, 3, 3, 4).\n",
    "# Each target must match the dimension it sums over.\n",
    "targets = [\n",
    "    (row_targets_age,(1,2,3,4)),  # sum over all dims except age\n",
    "    (row_targets_gender,(0,2,3,4)),  # sum over all dims except gender\n",
    "    (row_targets_income,(0,1,3,4)),  # excluding income\n",
    "    (row_targets_house,(0,1,2,4)),  # excluding house size\n",
    "    (row_targets_car,(0,1,2,3))   # excluding car number\n",
    "]"
   ]
  },
  {
   "cell_type": "markdown",
   "id": "db1e76a6",
   "metadata": {},
   "source": [
    "## Initialize the fitting matrix via the product of marginals"
   ]
  },
  {
   "cell_type": "code",
   "execution_count": 17,
   "id": "dfda054d",
   "metadata": {},
   "outputs": [],
   "source": [
    "marginals = [\n",
    "    np.array([104, 52, 770, 74]),       # age (4)\n",
    "    np.array([301, 699]),              # gender (2)\n",
    "    np.array([73, 597, 330]),          # income (3)\n",
    "    np.array([632, 282, 86]),          # house (3)\n",
    "    np.array([367, 143, 369, 121])     # car (4)\n",
    "]\n",
    "\n",
    "probs = [m/m.sum() for m in marginals] \n",
    "seed = probs[0]\n",
    "for prob in probs[1:]:\n",
    "    seed = np.tensordot(seed,prob,axes=0)"
   ]
  },
  {
   "cell_type": "code",
   "execution_count": 18,
   "id": "7bbe0c0d",
   "metadata": {},
   "outputs": [
    {
     "data": {
      "text/plain": [
       "(4, 2, 3, 3, 4)"
      ]
     },
     "execution_count": 18,
     "metadata": {},
     "output_type": "execute_result"
    }
   ],
   "source": [
    "seed.shape"
   ]
  },
  {
   "cell_type": "markdown",
   "id": "6aae64e2",
   "metadata": {},
   "source": [
    "## Fitting"
   ]
  },
  {
   "cell_type": "code",
   "execution_count": 21,
   "id": "2163781b",
   "metadata": {},
   "outputs": [
    {
     "ename": "NameError",
     "evalue": "name 'np' is not defined",
     "output_type": "error",
     "traceback": [
      "\u001b[31m---------------------------------------------------------------------------\u001b[39m",
      "\u001b[31mNameError\u001b[39m                                 Traceback (most recent call last)",
      "\u001b[36mCell\u001b[39m\u001b[36m \u001b[39m\u001b[32mIn[21]\u001b[39m\u001b[32m, line 1\u001b[39m\n\u001b[32m----> \u001b[39m\u001b[32m1\u001b[39m fitted_matrix = \u001b[43mipf\u001b[49m\u001b[43m(\u001b[49m\u001b[43mseed\u001b[49m\u001b[43m,\u001b[49m\u001b[43mtargets\u001b[49m\u001b[43m)\u001b[49m\n",
      "\u001b[36mFile \u001b[39m\u001b[32m/workspaces/synthetic_population/ipf.py:31\u001b[39m, in \u001b[36mipf\u001b[39m\u001b[34m(seed, targets, max_iter, tol)\u001b[39m\n\u001b[32m     28\u001b[39m current_marginal = fitted.sum(axis=axes)\n\u001b[32m     30\u001b[39m \u001b[38;5;66;03m# Compute the ratio between target and current marginal.\u001b[39;00m\n\u001b[32m---> \u001b[39m\u001b[32m31\u001b[39m \u001b[38;5;28;01mwith\u001b[39;00m \u001b[43mnp\u001b[49m.errstate(divide=\u001b[33m'\u001b[39m\u001b[33mignore\u001b[39m\u001b[33m'\u001b[39m, invalid=\u001b[33m'\u001b[39m\u001b[33mignore\u001b[39m\u001b[33m'\u001b[39m):\n\u001b[32m     32\u001b[39m     \u001b[38;5;66;03m# For non-zero marginal sums, compute the ratio; otherwise, use 0.\u001b[39;00m\n\u001b[32m     33\u001b[39m     ratio = np.where(current_marginal != \u001b[32m0\u001b[39m, target / current_marginal, \u001b[32m0\u001b[39m)\n\u001b[32m     34\u001b[39m     \u001b[38;5;66;03m# Expand dimensions of ratio to align with the fitted array.\u001b[39;00m\n",
      "\u001b[31mNameError\u001b[39m: name 'np' is not defined"
     ]
    }
   ],
   "source": [
    "fitted_matrix = ipf(seed,targets)"
   ]
  }
 ],
 "metadata": {
  "kernelspec": {
   "display_name": "Python 3",
   "language": "python",
   "name": "python3"
  },
  "language_info": {
   "codemirror_mode": {
    "name": "ipython",
    "version": 3
   },
   "file_extension": ".py",
   "mimetype": "text/x-python",
   "name": "python",
   "nbconvert_exporter": "python",
   "pygments_lexer": "ipython3",
   "version": "3.12.1"
  }
 },
 "nbformat": 4,
 "nbformat_minor": 5
}
