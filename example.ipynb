import numpy as np
from ipf import ipf 
# Variable dimension
a = ['1','2','3','4'] # Age class
g = ['1','2'] # gender class
i = ['1','2','3'] # income class
h = ['1','2','3'] # house size class
c = ['1','2','3','4'] # car number class

# Initialize the fitting matrix with uniform values
seed = np.ones((len(a), len(g), len(i),len(h),len(c)))
# Constraints (marginal)
# Convert lists of strings to arrays of integers:
row_targets_age    = np.array([104, 52, 770, 74])
row_targets_gender = np.array([301, 699])
row_targets_income = np.array([73, 597, 330])
row_targets_house  = np.array([632, 282, 86])
row_targets_car    = np.array([367, 143, 369, 121])

# Suppose 'seed' is a 5D array of shape (4, 2, 3, 3, 4).
# Each target must match the dimension it sums over.
targets = [
    (row_targets_age,(1,2,3,4)),  # sum over all dims except age
    (row_targets_gender,(0,2,3,4)),  # sum over all dims except gender
    (row_targets_income,(0,1,3,4)),  # excluding income
    (row_targets_house,(0,1,2,4)),  # excluding house size
    (row_targets_car,(0,1,2,3))   # excluding car number
]

fitted_matrix = ipf(seed,targets)
fitted_matrix.sum(axis=(1,2,3,4))
