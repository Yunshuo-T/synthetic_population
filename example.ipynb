{
 "cells": [
  {
   "cell_type": "code",
   "execution_count": 1,
   "id": "c38140e5",
   "metadata": {},
   "outputs": [],
   "source": [
    "import numpy as np\n",
    "from ipf import ipf "
   ]
  },
  {
   "cell_type": "markdown",
   "id": "41f259e5",
   "metadata": {},
   "source": [
    "# Variable dimension"
   ]
  },
  {
   "cell_type": "code",
   "execution_count": 2,
   "id": "35462a49",
   "metadata": {},
   "outputs": [],
   "source": [
    "a = ['1','2','3','4'] # Age class\n",
    "g = ['1','2'] # gender class\n",
    "i = ['1','2','3'] # income class\n",
    "h = ['1','2','3'] # house size class\n",
    "c = ['1','2','3','4'] # car number class\n"
   ]
  },
  {
   "cell_type": "markdown",
   "id": "ef1c6755",
   "metadata": {},
   "source": [
    "# Initialize the fitting matrix with uniform values"
   ]
  },
  {
   "cell_type": "code",
   "execution_count": 3,
   "id": "3ebb7d80",
   "metadata": {},
   "outputs": [],
   "source": [
    "seed = np.ones((len(a), len(g), len(i),len(h),len(c)))"
   ]
  },
  {
   "cell_type": "markdown",
   "id": "16a4d1c1",
   "metadata": {},
   "source": [
    "# Constraints (marginal)"
   ]
  },
  {
   "cell_type": "code",
   "execution_count": 4,
   "id": "d4eae18d",
   "metadata": {},
   "outputs": [],
   "source": [
    "# Convert lists of strings to arrays of integers:\n",
    "row_targets_age    = np.array([104, 52, 770, 74])\n",
    "row_targets_gender = np.array([301, 699])\n",
    "row_targets_income = np.array([73, 597, 330])\n",
    "row_targets_house  = np.array([632, 282, 86])\n",
    "row_targets_car    = np.array([367, 143, 369, 121])\n",
    "\n",
    "# Suppose 'seed' is a 5D array of shape (4, 2, 3, 3, 4).\n",
    "# Each target must match the dimension it sums over.\n",
    "targets = [\n",
    "    (row_targets_age,(1,2,3,4)),  # sum over all dims except age\n",
    "    (row_targets_gender,(0,2,3,4)),  # sum over all dims except gender\n",
    "    (row_targets_income,(0,1,3,4)),  # excluding income\n",
    "    (row_targets_house,(0,1,2,4)),  # excluding house size\n",
    "    (row_targets_car,(0,1,2,3))   # excluding car number\n",
    "]\n"
   ]
  },
  {
   "cell_type": "code",
   "execution_count": 5,
   "id": "2163781b",
   "metadata": {},
   "outputs": [],
   "source": [
    "fitted_matrix = ipf(seed,targets)"
   ]
  },
  {
   "cell_type": "code",
   "execution_count": 7,
   "id": "22c67fe0",
   "metadata": {},
   "outputs": [
    {
     "data": {
      "text/plain": [
       "array([104.,  52., 770.,  74.])"
      ]
     },
     "execution_count": 7,
     "metadata": {},
     "output_type": "execute_result"
    }
   ],
   "source": [
    "fitted_matrix.sum(axis=(1,2,3,4))"
   ]
  }
 ],
 "metadata": {
  "kernelspec": {
   "display_name": "base",
   "language": "python",
   "name": "python3"
  },
  "language_info": {
   "codemirror_mode": {
    "name": "ipython",
    "version": 3
   },
   "file_extension": ".py",
   "mimetype": "text/x-python",
   "name": "python",
   "nbconvert_exporter": "python",
   "pygments_lexer": "ipython3",
   "version": "3.12.3"
  }
 },
 "nbformat": 4,
 "nbformat_minor": 5
}
